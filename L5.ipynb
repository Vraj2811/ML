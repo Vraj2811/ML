{
 "cells": [
  {
   "attachments": {},
   "cell_type": "markdown",
   "metadata": {},
   "source": [
    "1 OUTLIER"
   ]
  },
  {
   "cell_type": "code",
   "execution_count": 14,
   "metadata": {},
   "outputs": [],
   "source": [
    "import numpy as np\n",
    "import random\n",
    "from sklearn.linear_model import LinearRegression\n"
   ]
  },
  {
   "cell_type": "code",
   "execution_count": 15,
   "metadata": {},
   "outputs": [],
   "source": [
    "mean = np.zeros(5)\n",
    "cov = np.eye(5)\n",
    "num_points = 100\n",
    "\n",
    "X = np.stack([np.random.multivariate_normal(mean, cov)\n",
    "             for _ in range(num_points)])\n"
   ]
  },
  {
   "cell_type": "code",
   "execution_count": 16,
   "metadata": {},
   "outputs": [],
   "source": [
    "w = np.array([0.2, 0.3, 0.4, 0.5, 0.6])\n"
   ]
  },
  {
   "cell_type": "code",
   "execution_count": 17,
   "metadata": {},
   "outputs": [],
   "source": [
    "Y = np.dot(X, w)\n",
    "for i in range(100):\n",
    "    Y[i] += random.random()\n"
   ]
  },
  {
   "cell_type": "code",
   "execution_count": 18,
   "metadata": {},
   "outputs": [],
   "source": [
    "outlier_index = int(random.random()*50)\n",
    "Y[outlier_index] += random.random()*10\n"
   ]
  },
  {
   "cell_type": "code",
   "execution_count": 19,
   "metadata": {},
   "outputs": [
    {
     "name": "stdout",
     "output_type": "stream",
     "text": [
      "True\n"
     ]
    }
   ],
   "source": [
    "reg = LinearRegression()\n",
    "l = []\n",
    "for i in range(50):\n",
    "    X_i = np.vstack([X[:i], X[i+1:]])\n",
    "    Y_i = np.append(Y[:i], Y[i+1:])\n",
    "    reg.fit(X_i, Y_i)\n",
    "    pred1 = reg.predict(X[i:i+1])\n",
    "    l.append(pred1-Y[i])\n",
    "\n",
    "a = np.argmax(np.abs(l))\n",
    "\n",
    "print(a == outlier_index)\n"
   ]
  },
  {
   "attachments": {},
   "cell_type": "markdown",
   "metadata": {},
   "source": [
    "5 OUTLIERS"
   ]
  },
  {
   "cell_type": "code",
   "execution_count": 20,
   "metadata": {},
   "outputs": [],
   "source": [
    "import random\n",
    "from sklearn.linear_model import LinearRegression\n",
    "import numpy as np"
   ]
  },
  {
   "cell_type": "code",
   "execution_count": 21,
   "metadata": {},
   "outputs": [],
   "source": [
    "mean = np.zeros(5)\n",
    "cov = np.eye(5)\n",
    "num_points = 100\n",
    "\n",
    "X = np.stack([np.random.multivariate_normal(mean, cov)\n",
    "             for _ in range(num_points)])\n"
   ]
  },
  {
   "cell_type": "code",
   "execution_count": 22,
   "metadata": {},
   "outputs": [],
   "source": [
    "w = np.array([0.2, 0.3, 0.4, 0.5, 0.6])\n"
   ]
  },
  {
   "cell_type": "code",
   "execution_count": 23,
   "metadata": {},
   "outputs": [],
   "source": [
    "Y = np.dot(X, w)\n",
    "for i in range(100):\n",
    "    Y[i] += random.random()\n"
   ]
  },
  {
   "cell_type": "code",
   "execution_count": 24,
   "metadata": {},
   "outputs": [
    {
     "name": "stdout",
     "output_type": "stream",
     "text": [
      "[70 29 14 25  1]\n"
     ]
    }
   ],
   "source": [
    "outliers = np.random.choice(range(100), 5, replace=False)\n",
    "Y[outliers] += random.random()*10\n",
    "\n",
    "print(outliers)"
   ]
  },
  {
   "cell_type": "code",
   "execution_count": 25,
   "metadata": {},
   "outputs": [
    {
     "name": "stdout",
     "output_type": "stream",
     "text": [
      "[14, 1, 29, 25, 43]\n",
      "4\n"
     ]
    },
    {
     "name": "stderr",
     "output_type": "stream",
     "text": [
      "/tmp/ipykernel_109463/567856462.py:12: VisibleDeprecationWarning: Creating an ndarray from ragged nested sequences (which is a list-or-tuple of lists-or-tuples-or ndarrays with different lengths or shapes) is deprecated. If you meant to do this, you must specify 'dtype=object' when creating the ndarray.\n",
      "  a=np.argmax(np.abs(l1))\n"
     ]
    }
   ],
   "source": [
    "reg = LinearRegression()\n",
    "l1=[]\n",
    "for i in range(50):\n",
    "    X_i = np.vstack([X[:i], X[i+1:]])\n",
    "    Y_i = np.append(Y[:i], Y[i+1:])\n",
    "    reg.fit(X_i, Y_i)\n",
    "    pred1 = reg.predict(X[i:i+1])\n",
    "    l1.append(pred1-Y[i])\n",
    "\n",
    "l2=[]\n",
    "for i in range(5):\n",
    "    a=np.argmax(np.abs(l1))\n",
    "    l1[a]=0\n",
    "    l2.append(a)\n",
    "\n",
    "print(l2)\n",
    "\n",
    "num_common_elements = len(set(l2).intersection(set(outliers)))\n",
    "print(num_common_elements)"
   ]
  }
 ],
 "metadata": {
  "kernelspec": {
   "display_name": "Python 3",
   "language": "python",
   "name": "python3"
  },
  "language_info": {
   "codemirror_mode": {
    "name": "ipython",
    "version": 3
   },
   "file_extension": ".py",
   "mimetype": "text/x-python",
   "name": "python",
   "nbconvert_exporter": "python",
   "pygments_lexer": "ipython3",
   "version": "3.8.10"
  },
  "orig_nbformat": 4
 },
 "nbformat": 4,
 "nbformat_minor": 2
}
