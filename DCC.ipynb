{
 "cells": [
  {
   "attachments": {},
   "cell_type": "markdown",
   "metadata": {},
   "source": [
    "KMeans"
   ]
  },
  {
   "cell_type": "code",
   "execution_count": null,
   "metadata": {},
   "outputs": [],
   "source": [
    "import numpy as np\n",
    "from sklearn.datasets import load_digits\n",
    "import matplotlib.pyplot as plt\n",
    "\n",
    "y = load_digits()\n",
    "x = y.data\n",
    "k = 10\n",
    "n, d = x.shape\n",
    "\n",
    "centroid = x[np.random.choice(n, k, replace=False)]\n",
    "# centroid = x[:10)]\n",
    "\n",
    "max_iter = 100\n",
    "\n",
    "for _ in range(max_iter):\n",
    "    distances = np.linalg.norm(x[:, np.newaxis, :]-centroid, axis=-1)\n",
    "    labels = np.argmin(distances, axis=1)\n",
    "    for i in range(k):\n",
    "        centroid[i] = np.mean(x[labels == i], axis=0)\n",
    "\n",
    "print(np.mean(labels == y.target)*100)\n",
    "\n",
    "# plt.figure()\n",
    "# for i in range(k):\n",
    "#     plt.subplot(2, 5, i+1)\n",
    "#     plt.imshow(centroid[i].reshape(8, 8), cmap='gray')\n",
    "#     plt.axis('off')\n",
    "# plt.suptitle('Cluster centers')\n",
    "# plt.show()\n",
    "\n",
    "from sklearn.cluster import KMeans\n",
    "kmeans = KMeans(n_clusters=10).fit(x)\n",
    "print(np.mean(kmeans.labels_ == y.target)*100)\n"
   ]
  },
  {
   "attachments": {},
   "cell_type": "markdown",
   "metadata": {},
   "source": [
    "K Centre"
   ]
  },
  {
   "cell_type": "code",
   "execution_count": null,
   "metadata": {},
   "outputs": [],
   "source": [
    "import numpy as np\n",
    "from sklearn.datasets import load_digits\n",
    "import matplotlib.pyplot as plt\n",
    "\n",
    "y=load_digits()\n",
    "x=y.data\n",
    "n,d=x.shape\n",
    "\n",
    "k=10\n",
    "\n",
    "centres=x[np.random.choice(n,1)]\n",
    "\n",
    "def closest_centres(point,centres):\n",
    "    dclosest=np.inf\n",
    "    for c in centres:\n",
    "        d=np.linalg.norm(point-c)\n",
    "        dclosest-min(d,dclosest)\n",
    "    return dclosest\n",
    "\n",
    "def far(points,centres):\n",
    "    dmax=-1\n",
    "    for p in points:\n",
    "        d=closest_centres(p,centres)\n",
    "        if d>dmax:\n",
    "            point=p\n",
    "    return point\n",
    "\n",
    "for _ in range(k-1):\n",
    "    centre=far(x,centres)\n",
    "    centres=np.vstack((centres,centre))\n",
    "\n",
    "distances = np.linalg.norm(x[:, np.newaxis, :]-centres, axis=-1)\n",
    "labels = np.argmin(distances, axis=1)\n",
    "\n",
    "print(np.mean(labels == y.target)*100)"
   ]
  },
  {
   "attachments": {},
   "cell_type": "markdown",
   "metadata": {},
   "source": [
    "Linear Regression"
   ]
  },
  {
   "cell_type": "code",
   "execution_count": null,
   "metadata": {},
   "outputs": [],
   "source": [
    "import numpy as np\n",
    "from sklearn.datasets import load_diabetes\n",
    "from sklearn.model_selection import train_test_split\n",
    "from sklearn.linear_model import LinearRegression\n",
    "from sklearn.ensemble import RandomForestRegressor,GradientBoostingRegressor\n",
    "\n",
    "y=load_diabetes()\n",
    "\n",
    "x_train,x_test,y_train,y_test=train_test_split(y.data,y.target,train_size=0.75)\n",
    "\n",
    "reg=LinearRegression().fit(x_train,y_train)\n",
    "\n",
    "a=reg.predict(x_test)\n",
    "\n",
    "print(np.var(y_test-a))\n",
    "\n"
   ]
  },
  {
   "attachments": {},
   "cell_type": "markdown",
   "metadata": {},
   "source": [
    "Nearest Neighbors"
   ]
  },
  {
   "cell_type": "code",
   "execution_count": null,
   "metadata": {},
   "outputs": [],
   "source": []
  }
 ],
 "metadata": {
  "kernelspec": {
   "display_name": "Python 3",
   "language": "python",
   "name": "python3"
  },
  "language_info": {
   "codemirror_mode": {
    "name": "ipython",
    "version": 3
   },
   "file_extension": ".py",
   "mimetype": "text/x-python",
   "name": "python",
   "nbconvert_exporter": "python",
   "pygments_lexer": "ipython3",
   "version": "3.8.10"
  },
  "orig_nbformat": 4
 },
 "nbformat": 4,
 "nbformat_minor": 2
}
