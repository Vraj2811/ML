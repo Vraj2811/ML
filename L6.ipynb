{
 "cells": [
  {
   "cell_type": "code",
   "execution_count": 1,
   "metadata": {},
   "outputs": [],
   "source": [
    "import numpy as np\n",
    "from sklearn.datasets import load_digits\n",
    "import matplotlib.pyplot as plt\n",
    "from sklearn.naive_bayes import GaussianNB\n",
    "from sklearn.model_selection import KFold\n"
   ]
  },
  {
   "cell_type": "code",
   "execution_count": 2,
   "metadata": {},
   "outputs": [],
   "source": [
    "digits = load_digits()\n",
    "y = (digits.target == 0).astype(int)\n"
   ]
  },
  {
   "cell_type": "code",
   "execution_count": 3,
   "metadata": {},
   "outputs": [],
   "source": [
    "gnb = GaussianNB()\n",
    "\n",
    "kf = KFold(n_splits=5, shuffle=True, random_state=42)\n",
    "\n",
    "train_scores = []\n",
    "test_scores = []\n"
   ]
  },
  {
   "cell_type": "code",
   "execution_count": 4,
   "metadata": {},
   "outputs": [],
   "source": [
    "for train_index, test_index in kf.split(digits.data):\n",
    "    X_train, X_test = digits.data[train_index], digits.data[test_index]\n",
    "    y_train, y_test = y[train_index], y[test_index]\n",
    "\n",
    "    gnb.fit(X_train, y_train)\n",
    "\n",
    "    test_score = gnb.score(X_test, y_test)\n",
    "    test_scores.append(test_score)\n"
   ]
  },
  {
   "cell_type": "code",
   "execution_count": 5,
   "metadata": {},
   "outputs": [
    {
     "name": "stdout",
     "output_type": "stream",
     "text": [
      "Error =  1.1129681213246534 %\n"
     ]
    }
   ],
   "source": [
    "mean_test_score = np.mean(test_scores)\n",
    "\n",
    "print(\"Error = \", (1-mean_test_score)*100, \"%\")\n"
   ]
  },
  {
   "attachments": {},
   "cell_type": "markdown",
   "metadata": {},
   "source": [
    "Error for each digit in identifying against 0"
   ]
  },
  {
   "cell_type": "code",
   "execution_count": 6,
   "metadata": {},
   "outputs": [
    {
     "name": "stdout",
     "output_type": "stream",
     "text": [
      "[1 0 0 ... 0 0 0]\n",
      "[0 1 2 ... 8 9 8]\n"
     ]
    }
   ],
   "source": [
    "gnb.fit(digits.data, y)\n",
    "\n",
    "a = gnb.predict(digits.data)\n",
    "\n",
    "print(a)\n",
    "print(digits.target)\n"
   ]
  },
  {
   "cell_type": "code",
   "execution_count": 7,
   "metadata": {},
   "outputs": [
    {
     "name": "stdout",
     "output_type": "stream",
     "text": [
      "Number of wrong output for digit 1: 0\n",
      "Number of wrong output for digit 2: 1\n",
      "Number of wrong output for digit 3: 0\n",
      "Number of wrong output for digit 4: 9\n",
      "Number of wrong output for digit 5: 0\n",
      "Number of wrong output for digit 6: 3\n",
      "Number of wrong output for digit 7: 0\n",
      "Number of wrong output for digit 8: 1\n",
      "Number of wrong output for digit 9: 3\n",
      "Most errors are for the digit 4\n"
     ]
    }
   ],
   "source": [
    "incorrect_counts = []\n",
    "for i in range(1, 10):\n",
    "    incorrect = np.sum((a == 1) & (digits.target == i))\n",
    "    incorrect_counts.append(incorrect)\n",
    "    print(f\"Number of wrong output for digit {i}: {incorrect}\")\n",
    "\n",
    "print(\"Most errors are for the digit\", 1 +\n",
    "      incorrect_counts.index(max(incorrect_counts)))\n"
   ]
  }
 ],
 "metadata": {
  "kernelspec": {
   "display_name": "Python 3",
   "language": "python",
   "name": "python3"
  },
  "language_info": {
   "codemirror_mode": {
    "name": "ipython",
    "version": 3
   },
   "file_extension": ".py",
   "mimetype": "text/x-python",
   "name": "python",
   "nbconvert_exporter": "python",
   "pygments_lexer": "ipython3",
   "version": "3.8.10"
  },
  "orig_nbformat": 4
 },
 "nbformat": 4,
 "nbformat_minor": 2
}
