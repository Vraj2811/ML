{
 "cells": [
  {
   "cell_type": "code",
   "execution_count": 47,
   "metadata": {},
   "outputs": [],
   "source": [
    "import numpy as np\n",
    "from sklearn.datasets import load_digits\n",
    "import matplotlib.pyplot as plt\n",
    "from sklearn.cluster import KMeans\n",
    "from sklearn.metrics import confusion_matrix\n",
    "from sklearn.decomposition import PCA\n"
   ]
  },
  {
   "cell_type": "code",
   "execution_count": 48,
   "metadata": {},
   "outputs": [],
   "source": [
    "digits = load_digits()\n",
    "\n",
    "mu, sigma = 0, 1\n",
    "noise = np.random.normal(mu, sigma, digits.data.shape)\n",
    "noisy_digits = digits.data + noise\n"
   ]
  },
  {
   "cell_type": "code",
   "execution_count": 49,
   "metadata": {},
   "outputs": [
    {
     "name": "stderr",
     "output_type": "stream",
     "text": [
      "/home/vraj/.local/lib/python3.8/site-packages/sklearn/cluster/_kmeans.py:870: FutureWarning: The default value of `n_init` will change from 10 to 'auto' in 1.4. Set the value of `n_init` explicitly to suppress the warning\n",
      "  warnings.warn(\n"
     ]
    }
   ],
   "source": [
    "Kmeans_Noise = KMeans(n_clusters=10, random_state=42)\n",
    "Kmeans_Noise.fit(noisy_digits)\n",
    "labels_noisy = Kmeans_Noise.labels_\n",
    "centers = Kmeans_Noise.cluster_centers_\n"
   ]
  },
  {
   "cell_type": "code",
   "execution_count": 50,
   "metadata": {},
   "outputs": [
    {
     "name": "stdout",
     "output_type": "stream",
     "text": [
      "Accuracy: 6.844741235392321 %\n",
      "Confusion matrix:\n",
      "[[  0   0  14 159   0   1   0   0   4   7]\n",
      " [  0 100   9   7   2   0   2   2 106   0]\n",
      " [  1   0   0   0 163   1   0   1   0   0]\n",
      " [  0   0   2   6  11   0   0 167   3   8]\n",
      " [177   0   1   0   0   0   1   0   0   0]\n",
      " [  0  25 148   2   0   0   0   0   3   0]\n",
      " [  0   0   0   7   0  38   0   0  41 138]\n",
      " [  0   2   0   0   0   2 178   0   2   0]\n",
      " [  0  55   3   0   5   0   0   9  10  20]\n",
      " [  0   0   0   2   0 140   0   0   5   7]]\n"
     ]
    }
   ],
   "source": [
    "accuracy = np.mean(labels_noisy == digits.target)\n",
    "print(\"Accuracy:\", accuracy*100, \"%\")\n",
    "\n",
    "CM = confusion_matrix(labels_noisy, digits.target)\n",
    "print(\"Confusion matrix:\")\n",
    "print(CM)\n"
   ]
  },
  {
   "cell_type": "code",
   "execution_count": 51,
   "metadata": {},
   "outputs": [
    {
     "name": "stderr",
     "output_type": "stream",
     "text": [
      "/home/vraj/.local/lib/python3.8/site-packages/sklearn/cluster/_kmeans.py:870: FutureWarning: The default value of `n_init` will change from 10 to 'auto' in 1.4. Set the value of `n_init` explicitly to suppress the warning\n",
      "  warnings.warn(\n"
     ]
    }
   ],
   "source": [
    "pca = PCA(n_components=2)\n",
    "noisy_digits_pca = pca.fit_transform(noisy_digits)\n",
    "\n",
    "Kmeans_Noise_PCA = KMeans(n_clusters=10, random_state=42)\n",
    "Kmeans_Noise_PCA.fit(noisy_digits_pca)\n",
    "labels_noisy_PCA = Kmeans_Noise_PCA.labels_\n",
    "centers = Kmeans_Noise_PCA.cluster_centers_\n"
   ]
  },
  {
   "cell_type": "code",
   "execution_count": 52,
   "metadata": {},
   "outputs": [
    {
     "name": "stdout",
     "output_type": "stream",
     "text": [
      "Accuracy: 16.30495269894268 %\n",
      "Confusion matrix:\n",
      "[[  0  89   2   0   2   2   0  34   6   0]\n",
      " [  8   6   3  21   0  51   0   0  11  76]\n",
      " [ 15   0   0   0  18   5 142   0   1   1]\n",
      " [  0   0 106  53   0   4   0   0   4   7]\n",
      " [  1   4   0   0 147   1  25   1   1   0]\n",
      " [  0  49  10   0  11  43   4  38  60  10]\n",
      " [  0   0   2  86   0   0   0   0   0  60]\n",
      " [154   0   0   0   0   5  10   0   0   0]\n",
      " [  0   5  16  13   3  27   0 105  27   9]\n",
      " [  0  29  38  10   0  44   0   1  64  17]]\n"
     ]
    }
   ],
   "source": [
    "accuracy = np.mean(labels_noisy_PCA == digits.target)\n",
    "print(\"Accuracy:\", accuracy*100, \"%\")\n",
    "\n",
    "CM = confusion_matrix(labels_noisy_PCA, digits.target)\n",
    "print(\"Confusion matrix:\")\n",
    "print(CM)\n"
   ]
  }
 ],
 "metadata": {
  "kernelspec": {
   "display_name": "Python 3",
   "language": "python",
   "name": "python3"
  },
  "language_info": {
   "codemirror_mode": {
    "name": "ipython",
    "version": 3
   },
   "file_extension": ".py",
   "mimetype": "text/x-python",
   "name": "python",
   "nbconvert_exporter": "python",
   "pygments_lexer": "ipython3",
   "version": "3.8.10"
  },
  "orig_nbformat": 4,
  "vscode": {
   "interpreter": {
    "hash": "e7370f93d1d0cde622a1f8e1c04877d8463912d04d973331ad4851f04de6915a"
   }
  }
 },
 "nbformat": 4,
 "nbformat_minor": 2
}
